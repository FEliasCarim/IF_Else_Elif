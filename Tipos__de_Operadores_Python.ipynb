{
  "nbformat": 4,
  "nbformat_minor": 0,
  "metadata": {
    "colab": {
      "provenance": [],
      "collapsed_sections": [],
      "authorship_tag": "ABX9TyP7itbAMzw8cvWXypWc0mC2",
      "include_colab_link": true
    },
    "kernelspec": {
      "name": "python3",
      "display_name": "Python 3"
    },
    "language_info": {
      "name": "python"
    }
  },
  "cells": [
    {
      "cell_type": "markdown",
      "metadata": {
        "id": "view-in-github",
        "colab_type": "text"
      },
      "source": [
        "<a href=\"https://colab.research.google.com/github/FEliasCarim/IF_Else_Elif/blob/main/Tipos__de_Operadores_Python.ipynb\" target=\"_parent\"><img src=\"https://colab.research.google.com/assets/colab-badge.svg\" alt=\"Open In Colab\"/></a>"
      ]
    },
    {
      "cell_type": "markdown",
      "source": [
        "OPERADORES ARITMÉTICOS"
      ],
      "metadata": {
        "id": "G4Z454SEzblI"
      }
    },
    {
      "cell_type": "code",
      "source": [
        "# Soma\n",
        "print(1+3)"
      ],
      "metadata": {
        "colab": {
          "base_uri": "https://localhost:8080/"
        },
        "id": "BsfqKNePzjKH",
        "outputId": "3210ca69-2907-4574-dab2-b0e1953f7b1f"
      },
      "execution_count": null,
      "outputs": [
        {
          "output_type": "stream",
          "name": "stdout",
          "text": [
            "4\n"
          ]
        }
      ]
    },
    {
      "cell_type": "code",
      "source": [
        "# Subtração\n",
        "print(9-4)"
      ],
      "metadata": {
        "colab": {
          "base_uri": "https://localhost:8080/"
        },
        "id": "DQE7f42b3xG8",
        "outputId": "4a6a1fd5-9f70-42c8-e505-0bdb5d25189d"
      },
      "execution_count": null,
      "outputs": [
        {
          "output_type": "stream",
          "name": "stdout",
          "text": [
            "5\n"
          ]
        }
      ]
    },
    {
      "cell_type": "code",
      "source": [
        "# Divisão\n",
        "print(12/3)"
      ],
      "metadata": {
        "colab": {
          "base_uri": "https://localhost:8080/"
        },
        "id": "wFWt-nUt33bt",
        "outputId": "66f23d22-ad62-412a-f762-16197e7794dd"
      },
      "execution_count": null,
      "outputs": [
        {
          "output_type": "stream",
          "name": "stdout",
          "text": [
            "4.0\n"
          ]
        }
      ]
    },
    {
      "cell_type": "code",
      "source": [
        "# Divisão Inteira\n",
        "print(12//3)"
      ],
      "metadata": {
        "colab": {
          "base_uri": "https://localhost:8080/"
        },
        "id": "CWUB1a6W4ARX",
        "outputId": "1db99f0d-2ea0-4e89-a62a-c4d4262e20f3"
      },
      "execution_count": null,
      "outputs": [
        {
          "output_type": "stream",
          "name": "stdout",
          "text": [
            "4\n"
          ]
        }
      ]
    },
    {
      "cell_type": "code",
      "source": [
        "# Multiplicação\n",
        "print(3*5)"
      ],
      "metadata": {
        "colab": {
          "base_uri": "https://localhost:8080/"
        },
        "id": "99MHEtnq4Dq1",
        "outputId": "25064729-9f76-41a6-9244-72cb84a9d316"
      },
      "execution_count": null,
      "outputs": [
        {
          "output_type": "stream",
          "name": "stdout",
          "text": [
            "15\n"
          ]
        }
      ]
    },
    {
      "cell_type": "code",
      "source": [
        "# Exponenciação\n",
        "print(2**3)"
      ],
      "metadata": {
        "colab": {
          "base_uri": "https://localhost:8080/"
        },
        "id": "Q4MuyYNx4Mml",
        "outputId": "8ff72582-1257-413a-abae-0e36687a4248"
      },
      "execution_count": null,
      "outputs": [
        {
          "output_type": "stream",
          "name": "stdout",
          "text": [
            "8\n"
          ]
        }
      ]
    },
    {
      "cell_type": "code",
      "source": [
        "# Módulo\n",
        "print(10 % 3)"
      ],
      "metadata": {
        "colab": {
          "base_uri": "https://localhost:8080/"
        },
        "id": "lvETRwcs4qf0",
        "outputId": "3ed27069-c2ae-4aad-d3ca-57113df539b5"
      },
      "execution_count": null,
      "outputs": [
        {
          "output_type": "stream",
          "name": "stdout",
          "text": [
            "1\n"
          ]
        }
      ]
    },
    {
      "cell_type": "markdown",
      "source": [
        "PRECEDÊNCIA DE OPERADORES"
      ],
      "metadata": {
        "id": "USZ-Tq56480k"
      }
    },
    {
      "cell_type": "code",
      "source": [
        "print(12-3*4)"
      ],
      "metadata": {
        "colab": {
          "base_uri": "https://localhost:8080/"
        },
        "id": "U3fzIeMk5FsD",
        "outputId": "623d4d04-56a2-4688-fa0a-a184ee33bd79"
      },
      "execution_count": null,
      "outputs": [
        {
          "output_type": "stream",
          "name": "stdout",
          "text": [
            "0\n"
          ]
        }
      ]
    },
    {
      "cell_type": "code",
      "source": [
        "# Adiciona-se parênteses para determinar a ordem \n",
        "print((12-3)*4)"
      ],
      "metadata": {
        "colab": {
          "base_uri": "https://localhost:8080/"
        },
        "id": "81RUyBQh5rD5",
        "outputId": "ae6df1c5-ebc4-44f0-c736-c2a67cdce87c"
      },
      "execution_count": null,
      "outputs": [
        {
          "output_type": "stream",
          "name": "stdout",
          "text": [
            "36\n"
          ]
        }
      ]
    },
    {
      "cell_type": "code",
      "source": [
        "# Outro Exemplo\n",
        "print(10**2*3)"
      ],
      "metadata": {
        "colab": {
          "base_uri": "https://localhost:8080/"
        },
        "id": "dUhXJeiM7Ism",
        "outputId": "95c839f1-7e44-4ac4-8532-dc136d467dbd"
      },
      "execution_count": null,
      "outputs": [
        {
          "output_type": "stream",
          "name": "stdout",
          "text": [
            "300\n"
          ]
        }
      ]
    },
    {
      "cell_type": "code",
      "source": [
        "print(10**(2*3))"
      ],
      "metadata": {
        "colab": {
          "base_uri": "https://localhost:8080/"
        },
        "id": "gA6isL8w7XA-",
        "outputId": "68773964-80c9-48d9-fe7f-52c0a2deca6a"
      },
      "execution_count": null,
      "outputs": [
        {
          "output_type": "stream",
          "name": "stdout",
          "text": [
            "1000000\n"
          ]
        }
      ]
    },
    {
      "cell_type": "code",
      "source": [
        "# Ordem da esquerda para a direita nesse caso\n",
        "print(10//2*3)"
      ],
      "metadata": {
        "colab": {
          "base_uri": "https://localhost:8080/"
        },
        "id": "xq1EFSYE7ff9",
        "outputId": "08a928df-0c98-4ebd-b976-d5e54d4b4204"
      },
      "execution_count": null,
      "outputs": [
        {
          "output_type": "stream",
          "name": "stdout",
          "text": [
            "15\n"
          ]
        }
      ]
    },
    {
      "cell_type": "markdown",
      "source": [
        "Exercício Utilizando Variáveis"
      ],
      "metadata": {
        "id": "gNCDZzSH83Wh"
      }
    },
    {
      "cell_type": "code",
      "source": [
        "produto_1= 10\n",
        "produto_2= 30\n",
        "\n",
        "print(produto_1 + produto_2)"
      ],
      "metadata": {
        "colab": {
          "base_uri": "https://localhost:8080/"
        },
        "id": "gFiD0SZC87rz",
        "outputId": "c91b84de-db60-4065-822c-5f28ead30cbf"
      },
      "execution_count": null,
      "outputs": [
        {
          "output_type": "stream",
          "name": "stdout",
          "text": [
            "40\n"
          ]
        }
      ]
    },
    {
      "cell_type": "code",
      "source": [
        "print(produto_1 - produto_2)\n",
        "print(produto_1 // produto_2)\n",
        "print(produto_1 * produto_2)\n",
        "print(produto_1 % produto_2)\n",
        "print(produto_1 ** produto_2)"
      ],
      "metadata": {
        "colab": {
          "base_uri": "https://localhost:8080/"
        },
        "outputId": "3278e485-20b4-454b-d8ad-585b6178ff09",
        "id": "3zTJR1GG9MYI"
      },
      "execution_count": null,
      "outputs": [
        {
          "output_type": "stream",
          "name": "stdout",
          "text": [
            "-20\n",
            "0\n",
            "300\n",
            "10\n",
            "1000000000000000000000000000000\n"
          ]
        }
      ]
    },
    {
      "cell_type": "code",
      "source": [],
      "metadata": {
        "id": "RJAXDCiU9YDY"
      },
      "execution_count": null,
      "outputs": []
    }
  ]
}