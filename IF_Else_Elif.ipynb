{
  "nbformat": 4,
  "nbformat_minor": 0,
  "metadata": {
    "colab": {
      "provenance": [],
      "collapsed_sections": [],
      "authorship_tag": "ABX9TyNjJEtEXxJomtRpkeA0jU+v",
      "include_colab_link": true
    },
    "kernelspec": {
      "name": "python3",
      "display_name": "Python 3"
    },
    "language_info": {
      "name": "python"
    }
  },
  "cells": [
    {
      "cell_type": "markdown",
      "metadata": {
        "id": "view-in-github",
        "colab_type": "text"
      },
      "source": [
        "<a href=\"https://colab.research.google.com/github/FEliasCarim/IF_Else_Elif/blob/main/IF_Else_Elif.ipynb\" target=\"_parent\"><img src=\"https://colab.research.google.com/assets/colab-badge.svg\" alt=\"Open In Colab\"/></a>"
      ]
    },
    {
      "cell_type": "code",
      "execution_count": null,
      "metadata": {
        "colab": {
          "base_uri": "https://localhost:8080/"
        },
        "id": "XJt9qcfSwQHp",
        "outputId": "9d8e62d2-4769-4129-ae42-74754df330ce"
      },
      "outputs": [
        {
          "output_type": "stream",
          "name": "stdout",
          "text": [
            "Não pode tirar CNH\n"
          ]
        }
      ],
      "source": [
        "idade= 15\n",
        "if (idade>=18):\n",
        "  print('Pode tirar CNH')\n",
        "else:\n",
        "  print('Não pode tirar CNH')\n"
      ]
    },
    {
      "cell_type": "code",
      "source": [
        "idade_Joao= 19\n",
        "idade_Maria= 20\n",
        "\n",
        "if (idade_Joao > idade_Maria):\n",
        "  print ('João é mais velho que Maria')\n",
        "\n",
        "else:\n",
        "  print ('João não é mais velho que Maria')"
      ],
      "metadata": {
        "colab": {
          "base_uri": "https://localhost:8080/"
        },
        "id": "xHP6vALQx0KN",
        "outputId": "e4d7f0c7-c0b1-4da8-8a40-2bd681df8611"
      },
      "execution_count": null,
      "outputs": [
        {
          "output_type": "stream",
          "name": "stdout",
          "text": [
            "João não é mais velho que Maria\n"
          ]
        }
      ]
    },
    {
      "cell_type": "code",
      "source": [
        "idade_Joao= 19\n",
        "idade_Maria= 20\n",
        "idade_Pedro= 23\n",
        "\n",
        "if(idade_Joao > idade_Maria and idade_Joao > idade_Pedro):\n",
        "  print ('João é o mais velho de todos')\n",
        "elif(idade_Maria > idade_Joao and idade_Maria > idade_Pedro):\n",
        "  print ('Maria é a mais velha de todos')\n",
        "else:\n",
        "  print('Pedro é o mais velho de todos')\n",
        "\n",
        "  "
      ],
      "metadata": {
        "colab": {
          "base_uri": "https://localhost:8080/"
        },
        "id": "lEahzsQaOAoB",
        "outputId": "099917ae-ecc2-4f61-de1f-2b58a491533c"
      },
      "execution_count": null,
      "outputs": [
        {
          "output_type": "stream",
          "name": "stdout",
          "text": [
            "Pedro é o mais velho de todos\n"
          ]
        }
      ]
    },
    {
      "cell_type": "code",
      "source": [
        "idade = 51\n",
        "if(idade <= 13):\n",
        "  print ('criança')\n",
        "elif (idade >= 14 and idade < 18):\n",
        "  print ('adolescente')\n",
        "elif(idade >=18 and idade< 60):\n",
        "  print ('adulto')\n",
        "else:\n",
        "  print ('idoso')\n",
        "\n",
        "  "
      ],
      "metadata": {
        "colab": {
          "base_uri": "https://localhost:8080/"
        },
        "id": "fZreGA40UiCv",
        "outputId": "97823835-c4d3-4bdf-adef-546bf0ca01b8"
      },
      "execution_count": null,
      "outputs": [
        {
          "output_type": "stream",
          "name": "stdout",
          "text": [
            "adulto\n"
          ]
        }
      ]
    },
    {
      "cell_type": "markdown",
      "source": [
        "IDENTAÇÃO"
      ],
      "metadata": {
        "id": "maEHZLj2Xh6N"
      }
    },
    {
      "cell_type": "code",
      "source": [],
      "metadata": {
        "id": "Hx6HwUSuXmME"
      },
      "execution_count": null,
      "outputs": []
    }
  ]
}